{
 "cells": [
  {
   "cell_type": "code",
   "execution_count": 1,
   "metadata": {},
   "outputs": [],
   "source": [
    "import pandas as pd\n",
    "import numpy as np\n",
    "import datetime\n",
    "\n",
    "%matplotlib inline"
   ]
  },
  {
   "cell_type": "code",
   "execution_count": 2,
   "metadata": {},
   "outputs": [
    {
     "name": "stdout",
     "output_type": "stream",
     "text": [
      "date is  2013-06-07\n",
      "time is 12:30:19.463198\n",
      "datetime is 2013-06-07 12:30:19.463198\n"
     ]
    }
   ],
   "source": [
    "date = datetime.date(year=2013, month=6, day=7)\n",
    "time = datetime.time(hour=12, minute=30, second=19, microsecond=463198)\n",
    "dt = datetime.datetime(year=2013, month=6, day=7, \n",
    "                       hour=12, minute=30, second=19, microsecond=463198)\n",
    "\n",
    "print(\"date is \", date)\n",
    "print(\"time is\", time)\n",
    "print(\"datetime is\", dt)"
   ]
  },
  {
   "cell_type": "code",
   "execution_count": 3,
   "metadata": {},
   "outputs": [
    {
     "name": "stdout",
     "output_type": "stream",
     "text": [
      "19 days, 10:20:06.829008\n"
     ]
    }
   ],
   "source": [
    "td = datetime.timedelta(weeks=2, days=5, hours=10, minutes=20, \n",
    "                        seconds=6.73, milliseconds=99, microseconds=8)\n",
    "print(td)"
   ]
  },
  {
   "cell_type": "code",
   "execution_count": 4,
   "metadata": {},
   "outputs": [
    {
     "name": "stdout",
     "output_type": "stream",
     "text": [
      "new date is 2013-06-26\n",
      "new datetime is 2013-06-26 22:50:26.292206\n"
     ]
    }
   ],
   "source": [
    "print('new date is', date + td)\n",
    "print('new datetime is', dt + td)"
   ]
  },
  {
   "cell_type": "code",
   "execution_count": null,
   "metadata": {},
   "outputs": [],
   "source": []
  }
 ],
 "metadata": {
  "kernelspec": {
   "display_name": "Python 3",
   "language": "python",
   "name": "python3"
  },
  "language_info": {
   "codemirror_mode": {
    "name": "ipython",
    "version": 3
   },
   "file_extension": ".py",
   "mimetype": "text/x-python",
   "name": "python",
   "nbconvert_exporter": "python",
   "pygments_lexer": "ipython3",
   "version": "3.6.7"
  }
 },
 "nbformat": 4,
 "nbformat_minor": 2
}
